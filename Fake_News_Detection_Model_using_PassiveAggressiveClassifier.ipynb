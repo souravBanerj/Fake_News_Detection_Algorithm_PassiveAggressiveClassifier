{
 "cells": [
  {
   "cell_type": "code",
   "execution_count": 4,
   "id": "0417af3f",
   "metadata": {},
   "outputs": [],
   "source": [
    "# Basic set-up\n",
    "import os\n",
    "import numpy as np\n",
    "import pandas as pd\n",
    "\n",
    "# ML toolkits\n",
    "from sklearn.model_selection import train_test_split\n",
    "from sklearn.feature_extraction.text import TfidfVectorizer\n",
    "from sklearn.metrics import accuracy_score, confusion_matrix, f1_score\n",
    "from sklearn.utils.extmath import density\n",
    "from sklearn.pipeline import make_pipeline\n",
    "\n",
    "# Data visualization\n",
    "import matplotlib.pyplot as plt\n",
    "import seaborn as sns\n"
   ]
  },
  {
   "cell_type": "code",
   "execution_count": 9,
   "id": "02e80d23",
   "metadata": {},
   "outputs": [
    {
     "name": "stdout",
     "output_type": "stream",
     "text": [
      "                                                   title  \\\n",
      "0       Donald Trump Sends Out Embarrassing New Year’...   \n",
      "1       Drunk Bragging Trump Staffer Started Russian ...   \n",
      "2       Sheriff David Clarke Becomes An Internet Joke...   \n",
      "3       Trump Is So Obsessed He Even Has Obama’s Name...   \n",
      "4       Pope Francis Just Called Out Donald Trump Dur...   \n",
      "...                                                  ...   \n",
      "23476  McPain: John McCain Furious That Iran Treated ...   \n",
      "23477  JUSTICE? Yahoo Settles E-mail Privacy Class-ac...   \n",
      "23478  Sunnistan: US and Allied ‘Safe Zone’ Plan to T...   \n",
      "23479  How to Blow $700 Million: Al Jazeera America F...   \n",
      "23480  10 U.S. Navy Sailors Held by Iranian Military ...   \n",
      "\n",
      "                                                    text      subject  \\\n",
      "0      Donald Trump just couldn t wish all Americans ...         News   \n",
      "1      House Intelligence Committee Chairman Devin Nu...         News   \n",
      "2      On Friday, it was revealed that former Milwauk...         News   \n",
      "3      On Christmas day, Donald Trump announced that ...         News   \n",
      "4      Pope Francis used his annual Christmas Day mes...         News   \n",
      "...                                                  ...          ...   \n",
      "23476  21st Century Wire says As 21WIRE reported earl...  Middle-east   \n",
      "23477  21st Century Wire says It s a familiar theme. ...  Middle-east   \n",
      "23478  Patrick Henningsen  21st Century WireRemember ...  Middle-east   \n",
      "23479  21st Century Wire says Al Jazeera America will...  Middle-east   \n",
      "23480  21st Century Wire says As 21WIRE predicted in ...  Middle-east   \n",
      "\n",
      "                    date  \n",
      "0      December 31, 2017  \n",
      "1      December 31, 2017  \n",
      "2      December 30, 2017  \n",
      "3      December 29, 2017  \n",
      "4      December 25, 2017  \n",
      "...                  ...  \n",
      "23476   January 16, 2016  \n",
      "23477   January 16, 2016  \n",
      "23478   January 15, 2016  \n",
      "23479   January 14, 2016  \n",
      "23480   January 12, 2016  \n",
      "\n",
      "[23481 rows x 4 columns]\n",
      "                                                   title  \\\n",
      "0      As U.S. budget fight looms, Republicans flip t...   \n",
      "1      U.S. military to accept transgender recruits o...   \n",
      "2      Senior U.S. Republican senator: 'Let Mr. Muell...   \n",
      "3      FBI Russia probe helped by Australian diplomat...   \n",
      "4      Trump wants Postal Service to charge 'much mor...   \n",
      "...                                                  ...   \n",
      "21412  'Fully committed' NATO backs new U.S. approach...   \n",
      "21413  LexisNexis withdrew two products from Chinese ...   \n",
      "21414  Minsk cultural hub becomes haven from authorities   \n",
      "21415  Vatican upbeat on possibility of Pope Francis ...   \n",
      "21416  Indonesia to buy $1.14 billion worth of Russia...   \n",
      "\n",
      "                                                    text       subject  \\\n",
      "0      WASHINGTON (Reuters) - The head of a conservat...  politicsNews   \n",
      "1      WASHINGTON (Reuters) - Transgender people will...  politicsNews   \n",
      "2      WASHINGTON (Reuters) - The special counsel inv...  politicsNews   \n",
      "3      WASHINGTON (Reuters) - Trump campaign adviser ...  politicsNews   \n",
      "4      SEATTLE/WASHINGTON (Reuters) - President Donal...  politicsNews   \n",
      "...                                                  ...           ...   \n",
      "21412  BRUSSELS (Reuters) - NATO allies on Tuesday we...     worldnews   \n",
      "21413  LONDON (Reuters) - LexisNexis, a provider of l...     worldnews   \n",
      "21414  MINSK (Reuters) - In the shadow of disused Sov...     worldnews   \n",
      "21415  MOSCOW (Reuters) - Vatican Secretary of State ...     worldnews   \n",
      "21416  JAKARTA (Reuters) - Indonesia will buy 11 Sukh...     worldnews   \n",
      "\n",
      "                     date  \n",
      "0      December 31, 2017   \n",
      "1      December 29, 2017   \n",
      "2      December 31, 2017   \n",
      "3      December 30, 2017   \n",
      "4      December 29, 2017   \n",
      "...                   ...  \n",
      "21412    August 22, 2017   \n",
      "21413    August 22, 2017   \n",
      "21414    August 22, 2017   \n",
      "21415    August 22, 2017   \n",
      "21416    August 22, 2017   \n",
      "\n",
      "[21417 rows x 4 columns]\n"
     ]
    }
   ],
   "source": [
    "import pandas as pd\n",
    "\n",
    "fk = pd.read_csv (r'C:\\Users\\soura\\OneDrive\\Desktop\\Fake.csv')\n",
    "tk= pd.read_csv (r'C:\\Users\\soura\\OneDrive\\Desktop\\True.csv')\n",
    "print (df)\n",
    "print(tk)"
   ]
  },
  {
   "cell_type": "code",
   "execution_count": 10,
   "id": "67b1246c",
   "metadata": {},
   "outputs": [
    {
     "data": {
      "text/html": [
       "<div>\n",
       "<style scoped>\n",
       "    .dataframe tbody tr th:only-of-type {\n",
       "        vertical-align: middle;\n",
       "    }\n",
       "\n",
       "    .dataframe tbody tr th {\n",
       "        vertical-align: top;\n",
       "    }\n",
       "\n",
       "    .dataframe thead th {\n",
       "        text-align: right;\n",
       "    }\n",
       "</style>\n",
       "<table border=\"1\" class=\"dataframe\">\n",
       "  <thead>\n",
       "    <tr style=\"text-align: right;\">\n",
       "      <th></th>\n",
       "      <th>title</th>\n",
       "      <th>text</th>\n",
       "      <th>subject</th>\n",
       "      <th>date</th>\n",
       "    </tr>\n",
       "  </thead>\n",
       "  <tbody>\n",
       "    <tr>\n",
       "      <th>0</th>\n",
       "      <td>Donald Trump Sends Out Embarrassing New Year’...</td>\n",
       "      <td>Donald Trump just couldn t wish all Americans ...</td>\n",
       "      <td>News</td>\n",
       "      <td>December 31, 2017</td>\n",
       "    </tr>\n",
       "    <tr>\n",
       "      <th>1</th>\n",
       "      <td>Drunk Bragging Trump Staffer Started Russian ...</td>\n",
       "      <td>House Intelligence Committee Chairman Devin Nu...</td>\n",
       "      <td>News</td>\n",
       "      <td>December 31, 2017</td>\n",
       "    </tr>\n",
       "    <tr>\n",
       "      <th>2</th>\n",
       "      <td>Sheriff David Clarke Becomes An Internet Joke...</td>\n",
       "      <td>On Friday, it was revealed that former Milwauk...</td>\n",
       "      <td>News</td>\n",
       "      <td>December 30, 2017</td>\n",
       "    </tr>\n",
       "    <tr>\n",
       "      <th>3</th>\n",
       "      <td>Trump Is So Obsessed He Even Has Obama’s Name...</td>\n",
       "      <td>On Christmas day, Donald Trump announced that ...</td>\n",
       "      <td>News</td>\n",
       "      <td>December 29, 2017</td>\n",
       "    </tr>\n",
       "    <tr>\n",
       "      <th>4</th>\n",
       "      <td>Pope Francis Just Called Out Donald Trump Dur...</td>\n",
       "      <td>Pope Francis used his annual Christmas Day mes...</td>\n",
       "      <td>News</td>\n",
       "      <td>December 25, 2017</td>\n",
       "    </tr>\n",
       "  </tbody>\n",
       "</table>\n",
       "</div>"
      ],
      "text/plain": [
       "                                               title  \\\n",
       "0   Donald Trump Sends Out Embarrassing New Year’...   \n",
       "1   Drunk Bragging Trump Staffer Started Russian ...   \n",
       "2   Sheriff David Clarke Becomes An Internet Joke...   \n",
       "3   Trump Is So Obsessed He Even Has Obama’s Name...   \n",
       "4   Pope Francis Just Called Out Donald Trump Dur...   \n",
       "\n",
       "                                                text subject  \\\n",
       "0  Donald Trump just couldn t wish all Americans ...    News   \n",
       "1  House Intelligence Committee Chairman Devin Nu...    News   \n",
       "2  On Friday, it was revealed that former Milwauk...    News   \n",
       "3  On Christmas day, Donald Trump announced that ...    News   \n",
       "4  Pope Francis used his annual Christmas Day mes...    News   \n",
       "\n",
       "                date  \n",
       "0  December 31, 2017  \n",
       "1  December 31, 2017  \n",
       "2  December 30, 2017  \n",
       "3  December 29, 2017  \n",
       "4  December 25, 2017  "
      ]
     },
     "metadata": {},
     "output_type": "display_data"
    },
    {
     "data": {
      "text/html": [
       "<div>\n",
       "<style scoped>\n",
       "    .dataframe tbody tr th:only-of-type {\n",
       "        vertical-align: middle;\n",
       "    }\n",
       "\n",
       "    .dataframe tbody tr th {\n",
       "        vertical-align: top;\n",
       "    }\n",
       "\n",
       "    .dataframe thead th {\n",
       "        text-align: right;\n",
       "    }\n",
       "</style>\n",
       "<table border=\"1\" class=\"dataframe\">\n",
       "  <thead>\n",
       "    <tr style=\"text-align: right;\">\n",
       "      <th></th>\n",
       "      <th>title</th>\n",
       "      <th>text</th>\n",
       "      <th>subject</th>\n",
       "      <th>date</th>\n",
       "    </tr>\n",
       "  </thead>\n",
       "  <tbody>\n",
       "    <tr>\n",
       "      <th>0</th>\n",
       "      <td>As U.S. budget fight looms, Republicans flip t...</td>\n",
       "      <td>WASHINGTON (Reuters) - The head of a conservat...</td>\n",
       "      <td>politicsNews</td>\n",
       "      <td>December 31, 2017</td>\n",
       "    </tr>\n",
       "    <tr>\n",
       "      <th>1</th>\n",
       "      <td>U.S. military to accept transgender recruits o...</td>\n",
       "      <td>WASHINGTON (Reuters) - Transgender people will...</td>\n",
       "      <td>politicsNews</td>\n",
       "      <td>December 29, 2017</td>\n",
       "    </tr>\n",
       "    <tr>\n",
       "      <th>2</th>\n",
       "      <td>Senior U.S. Republican senator: 'Let Mr. Muell...</td>\n",
       "      <td>WASHINGTON (Reuters) - The special counsel inv...</td>\n",
       "      <td>politicsNews</td>\n",
       "      <td>December 31, 2017</td>\n",
       "    </tr>\n",
       "    <tr>\n",
       "      <th>3</th>\n",
       "      <td>FBI Russia probe helped by Australian diplomat...</td>\n",
       "      <td>WASHINGTON (Reuters) - Trump campaign adviser ...</td>\n",
       "      <td>politicsNews</td>\n",
       "      <td>December 30, 2017</td>\n",
       "    </tr>\n",
       "    <tr>\n",
       "      <th>4</th>\n",
       "      <td>Trump wants Postal Service to charge 'much mor...</td>\n",
       "      <td>SEATTLE/WASHINGTON (Reuters) - President Donal...</td>\n",
       "      <td>politicsNews</td>\n",
       "      <td>December 29, 2017</td>\n",
       "    </tr>\n",
       "  </tbody>\n",
       "</table>\n",
       "</div>"
      ],
      "text/plain": [
       "                                               title  \\\n",
       "0  As U.S. budget fight looms, Republicans flip t...   \n",
       "1  U.S. military to accept transgender recruits o...   \n",
       "2  Senior U.S. Republican senator: 'Let Mr. Muell...   \n",
       "3  FBI Russia probe helped by Australian diplomat...   \n",
       "4  Trump wants Postal Service to charge 'much mor...   \n",
       "\n",
       "                                                text       subject  \\\n",
       "0  WASHINGTON (Reuters) - The head of a conservat...  politicsNews   \n",
       "1  WASHINGTON (Reuters) - Transgender people will...  politicsNews   \n",
       "2  WASHINGTON (Reuters) - The special counsel inv...  politicsNews   \n",
       "3  WASHINGTON (Reuters) - Trump campaign adviser ...  politicsNews   \n",
       "4  SEATTLE/WASHINGTON (Reuters) - President Donal...  politicsNews   \n",
       "\n",
       "                 date  \n",
       "0  December 31, 2017   \n",
       "1  December 29, 2017   \n",
       "2  December 31, 2017   \n",
       "3  December 30, 2017   \n",
       "4  December 29, 2017   "
      ]
     },
     "metadata": {},
     "output_type": "display_data"
    }
   ],
   "source": [
    "display(fk.head())\n",
    "display(tk.head())"
   ]
  },
  {
   "cell_type": "code",
   "execution_count": 11,
   "id": "863af534",
   "metadata": {},
   "outputs": [],
   "source": [
    "#1.Importing data & exploration\n",
    "#2.Data cleaning / Prepping\n",
    "#3.Feature extraction\n",
    "#4.Model training\n",
    "#5.Further exploration\n",
    "#6.Conclusion"
   ]
  },
  {
   "cell_type": "code",
   "execution_count": 12,
   "id": "932a4825",
   "metadata": {},
   "outputs": [],
   "source": [
    "#Looks like a simple dataset that contains four columns, namely the article's title, the actual body of text, the subject, and date. There may not even be that much data cleaning to do, given how simple the dataset is!"
   ]
  },
  {
   "cell_type": "code",
   "execution_count": 13,
   "id": "3f5de3fb",
   "metadata": {},
   "outputs": [
    {
     "name": "stdout",
     "output_type": "stream",
     "text": [
      "<class 'pandas.core.frame.DataFrame'>\n",
      "RangeIndex: 23481 entries, 0 to 23480\n",
      "Data columns (total 4 columns):\n",
      " #   Column   Non-Null Count  Dtype \n",
      "---  ------   --------------  ----- \n",
      " 0   title    23481 non-null  object\n",
      " 1   text     23481 non-null  object\n",
      " 2   subject  23481 non-null  object\n",
      " 3   date     23481 non-null  object\n",
      "dtypes: object(4)\n",
      "memory usage: 733.9+ KB\n"
     ]
    },
    {
     "data": {
      "text/plain": [
       "None"
      ]
     },
     "metadata": {},
     "output_type": "display_data"
    },
    {
     "name": "stdout",
     "output_type": "stream",
     "text": [
      "\n",
      "\n",
      "<class 'pandas.core.frame.DataFrame'>\n",
      "RangeIndex: 21417 entries, 0 to 21416\n",
      "Data columns (total 4 columns):\n",
      " #   Column   Non-Null Count  Dtype \n",
      "---  ------   --------------  ----- \n",
      " 0   title    21417 non-null  object\n",
      " 1   text     21417 non-null  object\n",
      " 2   subject  21417 non-null  object\n",
      " 3   date     21417 non-null  object\n",
      "dtypes: object(4)\n",
      "memory usage: 669.4+ KB\n"
     ]
    },
    {
     "data": {
      "text/plain": [
       "None"
      ]
     },
     "metadata": {},
     "output_type": "display_data"
    }
   ],
   "source": [
    "display(fk.info())\n",
    "print('\\n')\n",
    "display(tk.info())"
   ]
  },
  {
   "cell_type": "code",
   "execution_count": 14,
   "id": "eaba6ffd",
   "metadata": {},
   "outputs": [
    {
     "data": {
      "text/plain": [
       "News               9050\n",
       "politics           6841\n",
       "left-news          4459\n",
       "Government News    1570\n",
       "US_News             783\n",
       "Middle-east         778\n",
       "Name: subject, dtype: int64"
      ]
     },
     "metadata": {},
     "output_type": "display_data"
    },
    {
     "name": "stdout",
     "output_type": "stream",
     "text": [
      "\n",
      "\n"
     ]
    },
    {
     "data": {
      "text/plain": [
       "politicsNews    11272\n",
       "worldnews       10145\n",
       "Name: subject, dtype: int64"
      ]
     },
     "metadata": {},
     "output_type": "display_data"
    }
   ],
   "source": [
    "display(fk.subject.value_counts())\n",
    "print('\\n')\n",
    "display(tk.subject.value_counts())"
   ]
  },
  {
   "cell_type": "code",
   "execution_count": 19,
   "id": "2a51ebfa",
   "metadata": {},
   "outputs": [],
   "source": [
    "#2. Data Cleaning / Prepping\n",
    "#Hmmm... it looks like the subject column is perhaps too informative -- there are clearly no overlapping \"subjects\" between fake and true news articles. Since I want to build a model that can differentiate fake vs. true news based on its content, I will drop this column.\n",
    "\n",
    "#Moreover, the best way to train the model on both fake and true news data will be to use concatenate two kinds, and shuffle them. I should first add labels to make sure we know which ones are which."
   ]
  },
  {
   "cell_type": "code",
   "execution_count": 20,
   "id": "f770a688",
   "metadata": {},
   "outputs": [],
   "source": [
    "fk['label'] = 'fake'\n",
    "tk['label'] = 'real'"
   ]
  },
  {
   "cell_type": "code",
   "execution_count": 21,
   "id": "b51a71e8",
   "metadata": {},
   "outputs": [
    {
     "data": {
      "text/html": [
       "<div>\n",
       "<style scoped>\n",
       "    .dataframe tbody tr th:only-of-type {\n",
       "        vertical-align: middle;\n",
       "    }\n",
       "\n",
       "    .dataframe tbody tr th {\n",
       "        vertical-align: top;\n",
       "    }\n",
       "\n",
       "    .dataframe thead th {\n",
       "        text-align: right;\n",
       "    }\n",
       "</style>\n",
       "<table border=\"1\" class=\"dataframe\">\n",
       "  <thead>\n",
       "    <tr style=\"text-align: right;\">\n",
       "      <th></th>\n",
       "      <th>title</th>\n",
       "      <th>text</th>\n",
       "      <th>date</th>\n",
       "      <th>label</th>\n",
       "    </tr>\n",
       "  </thead>\n",
       "  <tbody>\n",
       "    <tr>\n",
       "      <th>0</th>\n",
       "      <td>Senate panel approves Myanmar nominee</td>\n",
       "      <td>WASHINGTON (Reuters) - A U.S. Senate committee...</td>\n",
       "      <td>January 28, 2016</td>\n",
       "      <td>real</td>\n",
       "    </tr>\n",
       "    <tr>\n",
       "      <th>1</th>\n",
       "      <td>SECURITY NIGHTMARE? TRUMP’S “MAR-A-LAGO”… A Tr...</td>\n",
       "      <td></td>\n",
       "      <td>Nov 24, 2016</td>\n",
       "      <td>fake</td>\n",
       "    </tr>\n",
       "    <tr>\n",
       "      <th>2</th>\n",
       "      <td>Bernie Sanders Sends A Loud And Clear Message...</td>\n",
       "      <td>Over the last few months, Donald Trump has bee...</td>\n",
       "      <td>May 12, 2016</td>\n",
       "      <td>fake</td>\n",
       "    </tr>\n",
       "    <tr>\n",
       "      <th>3</th>\n",
       "      <td>Report: After Millions Promised, Trump Gave B...</td>\n",
       "      <td>While he s a lot wealthier, Donald Trump is no...</td>\n",
       "      <td>June 28, 2016</td>\n",
       "      <td>fake</td>\n",
       "    </tr>\n",
       "    <tr>\n",
       "      <th>4</th>\n",
       "      <td>Hezbollah says Saudi Arabia forced Lebanon PM ...</td>\n",
       "      <td>BEIRUT (Reuters) - The leader of Lebanese Shi ...</td>\n",
       "      <td>November 5, 2017</td>\n",
       "      <td>real</td>\n",
       "    </tr>\n",
       "    <tr>\n",
       "      <th>...</th>\n",
       "      <td>...</td>\n",
       "      <td>...</td>\n",
       "      <td>...</td>\n",
       "      <td>...</td>\n",
       "    </tr>\n",
       "    <tr>\n",
       "      <th>44893</th>\n",
       "      <td>Trump loses bid to end Trump University lawsui...</td>\n",
       "      <td>SAN FRANCISCO (Reuters) - A U.S. judge on Tues...</td>\n",
       "      <td>August 2, 2016</td>\n",
       "      <td>real</td>\n",
       "    </tr>\n",
       "    <tr>\n",
       "      <th>44894</th>\n",
       "      <td>Hillary Clinton also wants Britain to stay in ...</td>\n",
       "      <td>LONDON/WASHINGTON (Reuters) - U.S. Democratic ...</td>\n",
       "      <td>April 23, 2016</td>\n",
       "      <td>real</td>\n",
       "    </tr>\n",
       "    <tr>\n",
       "      <th>44895</th>\n",
       "      <td>Trump order paves way for agencies to weaken h...</td>\n",
       "      <td>WASHINGTON (Reuters) - President Donald Trump ...</td>\n",
       "      <td>January 21, 2017</td>\n",
       "      <td>real</td>\n",
       "    </tr>\n",
       "    <tr>\n",
       "      <th>44896</th>\n",
       "      <td>RACHEL MADDOW Tries To Embarrass Trump By Expo...</td>\n",
       "      <td>Here s Maddow s tweet announcing her  bombshel...</td>\n",
       "      <td>Mar 14, 2017</td>\n",
       "      <td>fake</td>\n",
       "    </tr>\n",
       "    <tr>\n",
       "      <th>44897</th>\n",
       "      <td>HOT MIC: REPUBLICAN SENATOR CALLS CONGRESSMAN ...</td>\n",
       "      <td>IT S BAD ENOUGH THAT DEMOCRAT SENATORS are spe...</td>\n",
       "      <td>Jul 25, 2017</td>\n",
       "      <td>fake</td>\n",
       "    </tr>\n",
       "  </tbody>\n",
       "</table>\n",
       "<p>44898 rows × 4 columns</p>\n",
       "</div>"
      ],
      "text/plain": [
       "                                                   title  \\\n",
       "0                  Senate panel approves Myanmar nominee   \n",
       "1      SECURITY NIGHTMARE? TRUMP’S “MAR-A-LAGO”… A Tr...   \n",
       "2       Bernie Sanders Sends A Loud And Clear Message...   \n",
       "3       Report: After Millions Promised, Trump Gave B...   \n",
       "4      Hezbollah says Saudi Arabia forced Lebanon PM ...   \n",
       "...                                                  ...   \n",
       "44893  Trump loses bid to end Trump University lawsui...   \n",
       "44894  Hillary Clinton also wants Britain to stay in ...   \n",
       "44895  Trump order paves way for agencies to weaken h...   \n",
       "44896  RACHEL MADDOW Tries To Embarrass Trump By Expo...   \n",
       "44897  HOT MIC: REPUBLICAN SENATOR CALLS CONGRESSMAN ...   \n",
       "\n",
       "                                                    text               date  \\\n",
       "0      WASHINGTON (Reuters) - A U.S. Senate committee...  January 28, 2016    \n",
       "1                                                              Nov 24, 2016   \n",
       "2      Over the last few months, Donald Trump has bee...       May 12, 2016   \n",
       "3      While he s a lot wealthier, Donald Trump is no...      June 28, 2016   \n",
       "4      BEIRUT (Reuters) - The leader of Lebanese Shi ...  November 5, 2017    \n",
       "...                                                  ...                ...   \n",
       "44893  SAN FRANCISCO (Reuters) - A U.S. judge on Tues...    August 2, 2016    \n",
       "44894  LONDON/WASHINGTON (Reuters) - U.S. Democratic ...    April 23, 2016    \n",
       "44895  WASHINGTON (Reuters) - President Donald Trump ...  January 21, 2017    \n",
       "44896  Here s Maddow s tweet announcing her  bombshel...       Mar 14, 2017   \n",
       "44897  IT S BAD ENOUGH THAT DEMOCRAT SENATORS are spe...       Jul 25, 2017   \n",
       "\n",
       "      label  \n",
       "0      real  \n",
       "1      fake  \n",
       "2      fake  \n",
       "3      fake  \n",
       "4      real  \n",
       "...     ...  \n",
       "44893  real  \n",
       "44894  real  \n",
       "44895  real  \n",
       "44896  fake  \n",
       "44897  fake  \n",
       "\n",
       "[44898 rows x 4 columns]"
      ]
     },
     "execution_count": 21,
     "metadata": {},
     "output_type": "execute_result"
    }
   ],
   "source": [
    "data = pd.concat([fk, tk], axis=0)\n",
    "data = data.sample(frac=1).reset_index(drop=True)\n",
    "data.drop('subject', axis=1)"
   ]
  },
  {
   "cell_type": "code",
   "execution_count": 22,
   "id": "d48ad3fc",
   "metadata": {},
   "outputs": [],
   "source": [
    "#Now I can split up our dataset into training vs. test dataset."
   ]
  },
  {
   "cell_type": "code",
   "execution_count": 23,
   "id": "9b27a2f9",
   "metadata": {},
   "outputs": [
    {
     "data": {
      "text/plain": [
       "18354    NEW YORK/WASHINGTON (Reuters) - President-elec...\n",
       "32393    CHILPANCINGO, Mexico (Reuters) - A protest by ...\n",
       "8965     Donald Trump s favorite morning propaganda pro...\n",
       "36457    ROME (Reuters) - A Libyan coast guard vessel f...\n",
       "44060    While the media salivates over the illegal rel...\n",
       "Name: text, dtype: object"
      ]
     },
     "metadata": {},
     "output_type": "display_data"
    },
    {
     "name": "stdout",
     "output_type": "stream",
     "text": [
      "\n",
      "\n"
     ]
    },
    {
     "data": {
      "text/plain": [
       "18354    real\n",
       "32393    real\n",
       "8965     fake\n",
       "36457    real\n",
       "44060    fake\n",
       "Name: label, dtype: object"
      ]
     },
     "metadata": {},
     "output_type": "display_data"
    },
    {
     "name": "stdout",
     "output_type": "stream",
     "text": [
      "\n",
      "There are 33673 documents in the training data.\n"
     ]
    }
   ],
   "source": [
    "X_train, X_test, y_train, y_test = train_test_split(data['text'], data['label'], test_size=0.25)\n",
    "display(X_train.head())\n",
    "print('\\n')\n",
    "display(y_train.head())\n",
    "\n",
    "print(\"\\nThere are {} documents in the training data.\".format(len(X_train)))"
   ]
  },
  {
   "cell_type": "code",
   "execution_count": 24,
   "id": "f081feb4",
   "metadata": {},
   "outputs": [],
   "source": [
    "#3. Feature extraction\n",
    "#Before getting into the actual feature extraction, I want to add some explanations to the method that was used here and why. This may be the most text-heavy section, but I believe it's also crucial to be able to reason the use of your choice of methodology, so please bear with me! But if you so wish, you could also just skip to the \"TL;DR\" below."
   ]
  },
  {
   "cell_type": "code",
   "execution_count": 26,
   "id": "04743988",
   "metadata": {},
   "outputs": [
    {
     "data": {
      "text/plain": [
       "'#\\nSome terms to know when dealing with... terms\\nAmong a few common ways of extracting numerical features from text are tokenizing, counting occurrence, and tf-idf term weighting; I\\'ve chosen tf-idf term weighting here as the feature to extract from these text.\\n\\n(1) Term frequency\\nThe first portion of this method, \"tf\", refers to the term frequency, which simply indicates how often terms can be found in documents. Tf\\'s alone are often insufficient as features, however; since there are many commonly-used words such as \"is\", \"are\", \"the\", etc. that do not carry much information about the document, we do not want to weigh these terms as heavily as other more rare but more informative terms. These uninformative terms are actually referred to as stop words, and are often cleaned out during data cleansing/feature extraction steps as they do not hold much value in enhancing the model\\'s ability to predict information.\\n\\n(2) Inverse document frequency\\nThis is where the \"idf\", short for inverse document frequency, comes into play. Idf is used to penalize such terms that occur commonly across different contexts without adding interesting information. The exact equation for computing inverse document frequency is:\\n\\nidf(t)=log1+n1+df(t)+1.\\n \\nHere,  n  represents the total number of documents,  t  represents the term in question,  df(t)  represents the document frequency of that term; i.e., the number of documents within the set of documents that contain that term. As one can imagine, for common terms such as \"is\", \"are\", etc.,  idf(t)  will most likely be 1, since all documents are highly likely to contain them (thus,  df(t)=n ). On the other hand, the less often a term occurs across different documents, the smaller the denominator will be, making the fraction bigger and in turn,  idf(t)  bigger.\\n\\n(3) Tf-idf\\nFinally, tf-idf is the product of term-frequency and inverse document frequency, mathematically computed as:\\n\\ntf−idf(t,d)=tf(t,d)∗idf(t).\\n \\nWhere in addition to notations used above,  d  represents a document. The more commonly the word appears, the greater the value of tf will be, but if this is the case across different documents, it will be penalized with a small idf. On the other hand, a rarely-occurring word might have a smaller value of tf, but be highlighted by bigger idf values for not occurring often in different documents.\\n\\nTL;DR\\nTf-idf term weighting lets you assign importance to tokens that actually carry some information by balancing overall token frequency with its frequency across documents.\\n\\nBelow, I first initialize a TfidfVectorizer object. It takes as input the set of document strings and outputs the normalized tf-idf vectors; then, using fit_transform like any other transformers and predictors in scikit-learn, we can fit the vectorizer to data and tranform them. It has an option to use the max_df to indicate the cut-off document-frequency for stop words, if being used. Here, I will set the cut-off document-frequency to be 0.7, which is the lowest possible value that this parameter can take. The final output of fitting & transforming data will give a sparse matrix with the size of n_samples by n_features, i.e., number of documents by number of unique words.\\n\\n\\n\\n'"
      ]
     },
     "execution_count": 26,
     "metadata": {},
     "output_type": "execute_result"
    }
   ],
   "source": [
    "\"\"\"\n",
    "Some terms to know when dealing with... terms\n",
    "Among a few common ways of extracting numerical features from text are tokenizing, counting occurrence, and tf-idf term weighting; I've chosen tf-idf term weighting here as the feature to extract from these text.\n",
    "\n",
    "(1) Term frequency\n",
    "The first portion of this method, \"tf\", refers to the term frequency, which simply indicates how often terms can be found in documents. Tf's alone are often insufficient as features, however; since there are many commonly-used words such as \"is\", \"are\", \"the\", etc. that do not carry much information about the document, we do not want to weigh these terms as heavily as other more rare but more informative terms. These uninformative terms are actually referred to as stop words, and are often cleaned out during data cleansing/feature extraction steps as they do not hold much value in enhancing the model's ability to predict information.\n",
    "\n",
    "(2) Inverse document frequency\n",
    "This is where the \"idf\", short for inverse document frequency, comes into play. Idf is used to penalize such terms that occur commonly across different contexts without adding interesting information. The exact equation for computing inverse document frequency is:\n",
    "\n",
    "idf(t)=log1+n1+df(t)+1.\n",
    " \n",
    "Here,  n  represents the total number of documents,  t  represents the term in question,  df(t)  represents the document frequency of that term; i.e., the number of documents within the set of documents that contain that term. As one can imagine, for common terms such as \"is\", \"are\", etc.,  idf(t)  will most likely be 1, since all documents are highly likely to contain them (thus,  df(t)=n ). On the other hand, the less often a term occurs across different documents, the smaller the denominator will be, making the fraction bigger and in turn,  idf(t)  bigger.\n",
    "\n",
    "(3) Tf-idf\n",
    "Finally, tf-idf is the product of term-frequency and inverse document frequency, mathematically computed as:\n",
    "\n",
    "tf−idf(t,d)=tf(t,d)∗idf(t).\n",
    " \n",
    "Where in addition to notations used above,  d  represents a document. The more commonly the word appears, the greater the value of tf will be, but if this is the case across different documents, it will be penalized with a small idf. On the other hand, a rarely-occurring word might have a smaller value of tf, but be highlighted by bigger idf values for not occurring often in different documents.\n",
    "\n",
    "TL;DR\n",
    "Tf-idf term weighting lets you assign importance to tokens that actually carry some information by balancing overall token frequency with its frequency across documents.\n",
    "\n",
    "Below, I first initialize a TfidfVectorizer object. It takes as input the set of document strings and outputs the normalized tf-idf vectors; then, using fit_transform like any other transformers and predictors in scikit-learn, we can fit the vectorizer to data and tranform them. It has an option to use the max_df to indicate the cut-off document-frequency for stop words, if being used. Here, I will set the cut-off document-frequency to be 0.7, which is the lowest possible value that this parameter can take. The final output of fitting & transforming data will give a sparse matrix with the size of n_samples by n_features, i.e., number of documents by number of unique words.\n",
    "\n",
    "\n",
    "\n",
    "\"\"\""
   ]
  },
  {
   "cell_type": "code",
   "execution_count": 27,
   "id": "58bdb785",
   "metadata": {},
   "outputs": [
    {
     "data": {
      "text/plain": [
       "<33673x108512 sparse matrix of type '<class 'numpy.float64'>'\n",
       "\twith 5128993 stored elements in Compressed Sparse Row format>"
      ]
     },
     "execution_count": 27,
     "metadata": {},
     "output_type": "execute_result"
    }
   ],
   "source": [
    "my_tfidf = TfidfVectorizer(stop_words='english', max_df=0.7)\n",
    "\n",
    "# fit the vectorizer and transform X_train into a tf-idf matrix,\n",
    "# then use the same vectorizer to transform X_test\n",
    "tfidf_train = my_tfidf.fit_transform(X_train)\n",
    "tfidf_test = my_tfidf.transform(X_test)\n",
    "\n",
    "tfidf_train"
   ]
  },
  {
   "cell_type": "code",
   "execution_count": 28,
   "id": "85505bd1",
   "metadata": {},
   "outputs": [],
   "source": [
    "#As expected, we see that there are as many rows as the number of documents, and we have extracted over a hundred thousand features, or tokens."
   ]
  },
  {
   "cell_type": "code",
   "execution_count": 29,
   "id": "d78c35b2",
   "metadata": {},
   "outputs": [],
   "source": [
    "#4. Model training"
   ]
  },
  {
   "cell_type": "code",
   "execution_count": 30,
   "id": "8775d247",
   "metadata": {},
   "outputs": [],
   "source": [
    "#The model I've chosen to use is the Passive-Aggressive (PA) Classifier (see original paper here). In essence, the PA classifier is an algorithm that only updates its weights (\"aggressive\" action) when it encounters examples for which its predictions are wrong, but otherwise remains unchanged (\"passive\" action)."
   ]
  },
  {
   "cell_type": "code",
   "execution_count": 31,
   "id": "178eea1e",
   "metadata": {},
   "outputs": [],
   "source": [
    "#Now, let's instantiate the PassiveAggressiveClassifier and train it with our features."
   ]
  },
  {
   "cell_type": "code",
   "execution_count": 32,
   "id": "855e417f",
   "metadata": {},
   "outputs": [
    {
     "data": {
      "text/plain": [
       "PassiveAggressiveClassifier(max_iter=50)"
      ]
     },
     "execution_count": 32,
     "metadata": {},
     "output_type": "execute_result"
    }
   ],
   "source": [
    "from sklearn.linear_model import PassiveAggressiveClassifier\n",
    "\n",
    "pa_clf = PassiveAggressiveClassifier(max_iter=50)\n",
    "pa_clf.fit(tfidf_train, y_train)"
   ]
  },
  {
   "cell_type": "code",
   "execution_count": 33,
   "id": "299e69f5",
   "metadata": {},
   "outputs": [],
   "source": [
    "#Finally, we can implement the same algorithm to the test dataset and see how well it performs!"
   ]
  },
  {
   "cell_type": "code",
   "execution_count": 37,
   "id": "66e1ca33",
   "metadata": {},
   "outputs": [
    {
     "name": "stdout",
     "output_type": "stream",
     "text": [
      "The accuracy of prediction is 99.38%.\n",
      "\n",
      "The F1 score is 0.994.\n",
      "\n"
     ]
    },
    {
     "data": {
      "image/png": "[encoded data removed]",
      "text/plain": [
       "<Figure size 432x288 with 2 Axes>"
      ]
     },
     "metadata": {
      "needs_background": "light"
     },
     "output_type": "display_data"
    }
   ],
   "source": [
    "from mlxtend.plotting import plot_confusion_matrix\n",
    "y_pred = pa_clf.predict(tfidf_test)\n",
    "\n",
    "conf_mat = confusion_matrix(y_test, y_pred)\n",
    "plot_confusion_matrix(conf_mat,\n",
    "                      show_normed=True, colorbar=True,\n",
    "                      class_names=['Fake', 'Real'])\n",
    "\n",
    "accscore = accuracy_score(y_test, y_pred)\n",
    "f1score = f1_score(y_test,y_pred,pos_label='real')\n",
    "\n",
    "print('The accuracy of prediction is {:.2f}%.\\n'.format(accscore*100))\n",
    "print('The F1 score is {:.3f}.\\n'.format(f1score))"
   ]
  },
  {
   "cell_type": "code",
   "execution_count": 36,
   "id": "0dd7e02f",
   "metadata": {},
   "outputs": [
    {
     "name": "stdout",
     "output_type": "stream",
     "text": [
      "Collecting mlxtend\n",
      "  Downloading mlxtend-0.20.0-py2.py3-none-any.whl (1.3 MB)\n",
      "Requirement already satisfied: scipy>=1.2.1 in c:\\users\\soura\\anaconda3\\lib\\site-packages (from mlxtend) (1.7.1)\n",
      "Collecting scikit-learn>=1.0.2\n",
      "  Downloading scikit_learn-1.1.2-cp39-cp39-win_amd64.whl (7.4 MB)\n",
      "Requirement already satisfied: pandas>=0.24.2 in c:\\users\\soura\\anaconda3\\lib\\site-packages (from mlxtend) (1.3.4)\n",
      "Requirement already satisfied: joblib>=0.13.2 in c:\\users\\soura\\anaconda3\\lib\\site-packages (from mlxtend) (1.1.0)\n",
      "Requirement already satisfied: matplotlib>=3.0.0 in c:\\users\\soura\\anaconda3\\lib\\site-packages (from mlxtend) (3.4.3)\n",
      "Requirement already satisfied: setuptools in c:\\users\\soura\\anaconda3\\lib\\site-packages (from mlxtend) (58.0.4)\n",
      "Requirement already satisfied: numpy>=1.16.2 in c:\\users\\soura\\anaconda3\\lib\\site-packages (from mlxtend) (1.20.3)\n",
      "Requirement already satisfied: pillow>=6.2.0 in c:\\users\\soura\\anaconda3\\lib\\site-packages (from matplotlib>=3.0.0->mlxtend) (8.4.0)\n",
      "Requirement already satisfied: cycler>=0.10 in c:\\users\\soura\\anaconda3\\lib\\site-packages (from matplotlib>=3.0.0->mlxtend) (0.10.0)\n",
      "Requirement already satisfied: python-dateutil>=2.7 in c:\\users\\soura\\anaconda3\\lib\\site-packages (from matplotlib>=3.0.0->mlxtend) (2.8.2)\n",
      "Requirement already satisfied: kiwisolver>=1.0.1 in c:\\users\\soura\\anaconda3\\lib\\site-packages (from matplotlib>=3.0.0->mlxtend) (1.3.1)\n",
      "Requirement already satisfied: pyparsing>=2.2.1 in c:\\users\\soura\\anaconda3\\lib\\site-packages (from matplotlib>=3.0.0->mlxtend) (3.0.4)\n",
      "Requirement already satisfied: six in c:\\users\\soura\\anaconda3\\lib\\site-packages (from cycler>=0.10->matplotlib>=3.0.0->mlxtend) (1.16.0)\n",
      "Requirement already satisfied: pytz>=2017.3 in c:\\users\\soura\\anaconda3\\lib\\site-packages (from pandas>=0.24.2->mlxtend) (2021.3)\n",
      "Requirement already satisfied: threadpoolctl>=2.0.0 in c:\\users\\soura\\anaconda3\\lib\\site-packages (from scikit-learn>=1.0.2->mlxtend) (2.2.0)\n",
      "Installing collected packages: scikit-learn, mlxtend\n",
      "  Attempting uninstall: scikit-learn\n",
      "    Found existing installation: scikit-learn 0.24.2\n",
      "    Uninstalling scikit-learn-0.24.2:\n",
      "      Successfully uninstalled scikit-learn-0.24.2\n",
      "Successfully installed mlxtend-0.20.0 scikit-learn-1.1.2\n",
      "Note: you may need to restart the kernel to use updated packages.\n"
     ]
    }
   ],
   "source": [
    "pip install mlxtend"
   ]
  },
  {
   "cell_type": "code",
   "execution_count": 38,
   "id": "c212bfb5",
   "metadata": {},
   "outputs": [],
   "source": [
    "#Amazing! The model does a very good job predicting whether the news is real or fake, with 99% accuracy; it has a phenomenal F1 score as well, scoring 0.993."
   ]
  },
  {
   "cell_type": "code",
   "execution_count": 39,
   "id": "e78ecbfd",
   "metadata": {},
   "outputs": [],
   "source": [
    "#5. Further exploration"
   ]
  },
  {
   "cell_type": "code",
   "execution_count": 40,
   "id": "72ce39d7",
   "metadata": {},
   "outputs": [
    {
     "name": "stdout",
     "output_type": "stream",
     "text": [
      "Dimensionality (i.e., number of features): 108512\n",
      "Density (i.e., fraction of non-zero elements): 0.516\n"
     ]
    }
   ],
   "source": [
    "# Dimensionality and density of features\n",
    "\n",
    "print(\"Dimensionality (i.e., number of features): {:d}\".format(pa_clf.coef_.shape[1]))\n",
    "print(\"Density (i.e., fraction of non-zero elements): {:.3f}\".format(density(pa_clf.coef_)))"
   ]
  },
  {
   "cell_type": "code",
   "execution_count": 41,
   "id": "9cfaf2f4",
   "metadata": {},
   "outputs": [],
   "source": [
    "#Out of the features identified, the algorithm found that a little less than half of them were not useful in determining the realness of the article. What does the rest of them look like?"
   ]
  },
  {
   "cell_type": "code",
   "execution_count": 42,
   "id": "33362536",
   "metadata": {},
   "outputs": [
    {
     "data": {
      "image/png": "[encoded data removed]",
      "text/plain": [
       "<Figure size 648x216 with 2 Axes>"
      ]
     },
     "metadata": {
      "needs_background": "light"
     },
     "output_type": "display_data"
    }
   ],
   "source": [
    "# Sort non-zero weights\n",
    "weights_nonzero = pa_clf.coef_[pa_clf.coef_!=0]\n",
    "feature_sorter_nonzero = np.argsort(weights_nonzero)\n",
    "weights_nonzero_sorted =weights_nonzero[feature_sorter_nonzero]\n",
    "\n",
    "# Plot\n",
    "fig, axs = plt.subplots(1,2, figsize=(9,3))\n",
    "\n",
    "sns.lineplot(data=weights_nonzero_sorted, ax=axs[0])\n",
    "axs[0].set_ylabel('Weight')\n",
    "axs[0].set_xlabel('Feature number \\n (Zero-weight omitted)')\n",
    "\n",
    "axs[1].hist(weights_nonzero_sorted,\n",
    "            orientation='horizontal', bins=500,)\n",
    "axs[1].set_xlabel('Count')\n",
    "\n",
    "fig.suptitle('Weight distribution in features with non-zero weights')\n",
    "\n",
    "plt.show()"
   ]
  },
  {
   "cell_type": "code",
   "execution_count": 43,
   "id": "3b779f85",
   "metadata": {},
   "outputs": [],
   "source": [
    "#So it appears that even among the features that had non-zero weights, most of them had a value close to zero. This is not surprising; there were close to a hundred thousand tokens; it's very unlikely that a large majority of them would have been much informative for our task. This leads to the next question -- which tokens were actually useful?"
   ]
  },
  {
   "cell_type": "code",
   "execution_count": 44,
   "id": "603db8f7",
   "metadata": {},
   "outputs": [],
   "source": [
    "#Extracting \"Indicator\" Tokens"
   ]
  },
  {
   "cell_type": "code",
   "execution_count": 45,
   "id": "4348fbcb",
   "metadata": {},
   "outputs": [
    {
     "name": "stdout",
     "output_type": "stream",
     "text": [
      "The top 10 tokens likely to appear in fake news were the following: \n",
      "\n"
     ]
    },
    {
     "data": {
      "text/html": [
       "<div>\n",
       "<style scoped>\n",
       "    .dataframe tbody tr th:only-of-type {\n",
       "        vertical-align: middle;\n",
       "    }\n",
       "\n",
       "    .dataframe tbody tr th {\n",
       "        vertical-align: top;\n",
       "    }\n",
       "\n",
       "    .dataframe thead th {\n",
       "        text-align: right;\n",
       "    }\n",
       "</style>\n",
       "<table border=\"1\" class=\"dataframe\">\n",
       "  <thead>\n",
       "    <tr style=\"text-align: right;\">\n",
       "      <th></th>\n",
       "      <th>Token</th>\n",
       "      <th>Weight</th>\n",
       "    </tr>\n",
       "  </thead>\n",
       "  <tbody>\n",
       "    <tr>\n",
       "      <th>0</th>\n",
       "      <td>read</td>\n",
       "      <td>-8.814226</td>\n",
       "    </tr>\n",
       "    <tr>\n",
       "      <th>1</th>\n",
       "      <td>featured</td>\n",
       "      <td>-7.489162</td>\n",
       "    </tr>\n",
       "    <tr>\n",
       "      <th>2</th>\n",
       "      <td>image</td>\n",
       "      <td>-7.243388</td>\n",
       "    </tr>\n",
       "    <tr>\n",
       "      <th>3</th>\n",
       "      <td>gop</td>\n",
       "      <td>-5.935774</td>\n",
       "    </tr>\n",
       "    <tr>\n",
       "      <th>4</th>\n",
       "      <td>just</td>\n",
       "      <td>-5.095745</td>\n",
       "    </tr>\n",
       "    <tr>\n",
       "      <th>5</th>\n",
       "      <td>getty</td>\n",
       "      <td>-5.067865</td>\n",
       "    </tr>\n",
       "    <tr>\n",
       "      <th>6</th>\n",
       "      <td>com</td>\n",
       "      <td>-4.535167</td>\n",
       "    </tr>\n",
       "    <tr>\n",
       "      <th>7</th>\n",
       "      <td>rep</td>\n",
       "      <td>-4.098394</td>\n",
       "    </tr>\n",
       "    <tr>\n",
       "      <th>8</th>\n",
       "      <td>sen</td>\n",
       "      <td>-4.094405</td>\n",
       "    </tr>\n",
       "    <tr>\n",
       "      <th>9</th>\n",
       "      <td>hillary</td>\n",
       "      <td>-3.974499</td>\n",
       "    </tr>\n",
       "  </tbody>\n",
       "</table>\n",
       "</div>"
      ],
      "text/plain": [
       "      Token    Weight\n",
       "0      read -8.814226\n",
       "1  featured -7.489162\n",
       "2     image -7.243388\n",
       "3       gop -5.935774\n",
       "4      just -5.095745\n",
       "5     getty -5.067865\n",
       "6       com -4.535167\n",
       "7       rep -4.098394\n",
       "8       sen -4.094405\n",
       "9   hillary -3.974499"
      ]
     },
     "metadata": {},
     "output_type": "display_data"
    },
    {
     "name": "stdout",
     "output_type": "stream",
     "text": [
      "\n",
      "\n",
      "...and the top 10 tokens likely to appear in real news were the following: \n",
      "\n"
     ]
    },
    {
     "data": {
      "text/html": [
       "<div>\n",
       "<style scoped>\n",
       "    .dataframe tbody tr th:only-of-type {\n",
       "        vertical-align: middle;\n",
       "    }\n",
       "\n",
       "    .dataframe tbody tr th {\n",
       "        vertical-align: top;\n",
       "    }\n",
       "\n",
       "    .dataframe thead th {\n",
       "        text-align: right;\n",
       "    }\n",
       "</style>\n",
       "<table border=\"1\" class=\"dataframe\">\n",
       "  <thead>\n",
       "    <tr style=\"text-align: right;\">\n",
       "      <th></th>\n",
       "      <th>Token</th>\n",
       "      <th>Weight</th>\n",
       "    </tr>\n",
       "  </thead>\n",
       "  <tbody>\n",
       "    <tr>\n",
       "      <th>0</th>\n",
       "      <td>reuters</td>\n",
       "      <td>29.882817</td>\n",
       "    </tr>\n",
       "    <tr>\n",
       "      <th>1</th>\n",
       "      <td>nov</td>\n",
       "      <td>5.546338</td>\n",
       "    </tr>\n",
       "    <tr>\n",
       "      <th>2</th>\n",
       "      <td>washington</td>\n",
       "      <td>5.081742</td>\n",
       "    </tr>\n",
       "    <tr>\n",
       "      <th>3</th>\n",
       "      <td>wednesday</td>\n",
       "      <td>4.395978</td>\n",
       "    </tr>\n",
       "    <tr>\n",
       "      <th>4</th>\n",
       "      <td>thursday</td>\n",
       "      <td>4.216677</td>\n",
       "    </tr>\n",
       "    <tr>\n",
       "      <th>5</th>\n",
       "      <td>republican</td>\n",
       "      <td>4.122377</td>\n",
       "    </tr>\n",
       "    <tr>\n",
       "      <th>6</th>\n",
       "      <td>tuesday</td>\n",
       "      <td>3.721489</td>\n",
       "    </tr>\n",
       "    <tr>\n",
       "      <th>7</th>\n",
       "      <td>statement</td>\n",
       "      <td>3.435051</td>\n",
       "    </tr>\n",
       "    <tr>\n",
       "      <th>8</th>\n",
       "      <td>comment</td>\n",
       "      <td>3.421331</td>\n",
       "    </tr>\n",
       "    <tr>\n",
       "      <th>9</th>\n",
       "      <td>saying</td>\n",
       "      <td>3.116496</td>\n",
       "    </tr>\n",
       "  </tbody>\n",
       "</table>\n",
       "</div>"
      ],
      "text/plain": [
       "        Token     Weight\n",
       "0     reuters  29.882817\n",
       "1         nov   5.546338\n",
       "2  washington   5.081742\n",
       "3   wednesday   4.395978\n",
       "4    thursday   4.216677\n",
       "5  republican   4.122377\n",
       "6     tuesday   3.721489\n",
       "7   statement   3.435051\n",
       "8     comment   3.421331\n",
       "9      saying   3.116496"
      ]
     },
     "metadata": {},
     "output_type": "display_data"
    }
   ],
   "source": [
    "# Sort features by their associated weights\n",
    "tokens = my_tfidf.get_feature_names()\n",
    "tokens_nonzero = np.array(tokens)[pa_clf.coef_[0]!=0]\n",
    "tokens_nonzero_sorted = np.array(tokens_nonzero)[feature_sorter_nonzero]\n",
    "\n",
    "num_tokens = 10\n",
    "fake_indicator_tokens = tokens_nonzero_sorted[:num_tokens]\n",
    "real_indicator_tokens = np.flip(tokens_nonzero_sorted[-num_tokens:])\n",
    "\n",
    "fake_indicator = pd.DataFrame({\n",
    "    'Token': fake_indicator_tokens,\n",
    "    'Weight': weights_nonzero_sorted[:num_tokens]\n",
    "})\n",
    "\n",
    "real_indicator = pd.DataFrame({\n",
    "    'Token': real_indicator_tokens,\n",
    "    'Weight': np.flip(weights_nonzero_sorted[-num_tokens:])\n",
    "})\n",
    "\n",
    "print('The top {} tokens likely to appear in fake news were the following: \\n'.format(num_tokens))\n",
    "display(fake_indicator)\n",
    "\n",
    "print('\\n\\n...and the top {} tokens likely to appear in real news were the following: \\n'.format(num_tokens))\n",
    "display(real_indicator)"
   ]
  },
  {
   "cell_type": "code",
   "execution_count": 50,
   "id": "ed2c81d2",
   "metadata": {},
   "outputs": [
    {
     "name": "stdout",
     "output_type": "stream",
     "text": [
      "Articles that contained any of the matching indicator tokens:\n",
      "\n",
      "FAKE: 21913 out of 23481 (93.32%)\n",
      "0        Donald Trump just couldn t wish all Americans ...\n",
      "1        House Intelligence Committee Chairman Devin Nu...\n",
      "2        On Friday, it was revealed that former Milwauk...\n",
      "3        On Christmas day, Donald Trump announced that ...\n",
      "4        Pope Francis used his annual Christmas Day mes...\n",
      "                               ...                        \n",
      "23476    21st Century Wire says As 21WIRE reported earl...\n",
      "23477    21st Century Wire says It s a familiar theme. ...\n",
      "23478    Patrick Henningsen  21st Century WireRemember ...\n",
      "23479    21st Century Wire says Al Jazeera America will...\n",
      "23480    21st Century Wire says As 21WIRE predicted in ...\n",
      "Name: text, Length: 21913, dtype: object\n",
      "\n",
      "REAL: 21408 out of 21417 (99.96%)\n",
      "0        WASHINGTON (Reuters) - The head of a conservat...\n",
      "1        WASHINGTON (Reuters) - Transgender people will...\n",
      "2        WASHINGTON (Reuters) - The special counsel inv...\n",
      "3        WASHINGTON (Reuters) - Trump campaign adviser ...\n",
      "4        SEATTLE/WASHINGTON (Reuters) - President Donal...\n",
      "                               ...                        \n",
      "21412    BRUSSELS (Reuters) - NATO allies on Tuesday we...\n",
      "21413    LONDON (Reuters) - LexisNexis, a provider of l...\n",
      "21414    MINSK (Reuters) - In the shadow of disused Sov...\n",
      "21415    MOSCOW (Reuters) - Vatican Secretary of State ...\n",
      "21416    JAKARTA (Reuters) - Indonesia will buy 11 Sukh...\n",
      "Name: text, Length: 21408, dtype: object\n"
     ]
    }
   ],
   "source": [
    "fake_contain_fake = fk.text.loc[[np.any([token in body for token in fake_indicator.Token])\n",
    "                                for body in fk.text.str.lower()]]\n",
    "real_contain_real = tk.text.loc[[np.any([token in body for token in real_indicator.Token])\n",
    "                                for body in tk.text.str.lower()]]\n",
    "\n",
    "print('Articles that contained any of the matching indicator tokens:\\n')\n",
    "\n",
    "print('FAKE: {} out of {} ({:.2f}%)'\n",
    "      .format(len(fake_contain_fake), len(fk), len(fake_contain_fake)/len(fk) * 100))\n",
    "print(fake_contain_fake)\n",
    "\n",
    "print('\\nREAL: {} out of {} ({:.2f}%)'\n",
    "      .format(len(real_contain_real), len(tk), len(real_contain_real)/len(tk) * 100))\n",
    "print(real_contain_real)"
   ]
  },
  {
   "cell_type": "code",
   "execution_count": 51,
   "id": "8fe15ed8",
   "metadata": {},
   "outputs": [],
   "source": [
    "#Algorithm \"Generalizability\""
   ]
  },
  {
   "cell_type": "code",
   "execution_count": 52,
   "id": "b242eaa8",
   "metadata": {},
   "outputs": [],
   "source": [
    "def FakeNewsDetection(X, y):\n",
    "    X_train, X_test, y_train, y_test = train_test_split(X, y, test_size=0.25)\n",
    "    \n",
    "    # vectorizer\n",
    "    my_tfidf = TfidfVectorizer(stop_words='english', max_df=0.7)\n",
    "    tfidf_train = my_tfidf.fit_transform(X_train)\n",
    "    tfidf_test = my_tfidf.transform(X_test)\n",
    "    \n",
    "    # model\n",
    "    my_pac = PassiveAggressiveClassifier(max_iter=50)\n",
    "    my_pac.fit(tfidf_train, y_train)\n",
    "    y_pred = my_pac.predict(tfidf_test)\n",
    "    \n",
    "    # metrics\n",
    "    conf_mat = confusion_matrix(y_test, y_pred)\n",
    "    plot_confusion_matrix(conf_mat,\n",
    "                          show_normed=True, colorbar=True,\n",
    "                          class_names=['Fake', 'Real'])\n",
    "    \n",
    "    accscore = accuracy_score(y_test, y_pred)\n",
    "    f1score = f1_score(y_test,y_pred,pos_label='real')\n",
    "\n",
    "    print('The accuracy of prediction is {:.2f}%.\\n'.format(accscore*100))\n",
    "    print('The F1 score is {:.3f}.\\n'.format(f1score))\n",
    "    \n",
    "    # Sort non-zero weights\n",
    "    weights_nonzero = my_pac.coef_[my_pac.coef_!=0]\n",
    "    feature_sorter_nonzero = np.argsort(weights_nonzero)\n",
    "    weights_nonzero_sorted =weights_nonzero[feature_sorter_nonzero]\n",
    "    \n",
    "    # Sort features by their associated weights\n",
    "    tokens = my_tfidf.get_feature_names()\n",
    "    tokens_nonzero = np.array(tokens)[my_pac.coef_[0]!=0]\n",
    "    tokens_nonzero_sorted = np.array(tokens_nonzero)[feature_sorter_nonzero]\n",
    "\n",
    "    num_tokens = 10\n",
    "    fake_indicator_tokens = tokens_nonzero_sorted[:num_tokens]\n",
    "    real_indicator_tokens = np.flip(tokens_nonzero_sorted[-num_tokens:])\n",
    "\n",
    "    fake_indicator = pd.DataFrame({\n",
    "        'Token': fake_indicator_tokens,\n",
    "        'Weight': weights_nonzero_sorted[:num_tokens]\n",
    "    })\n",
    "\n",
    "    real_indicator = pd.DataFrame({\n",
    "        'Token': real_indicator_tokens,\n",
    "        'Weight': np.flip(weights_nonzero_sorted[-num_tokens:])\n",
    "    })\n",
    "\n",
    "    print('The top {} tokens likely to appear in fake news were the following: \\n'.format(num_tokens))\n",
    "    display(fake_indicator)\n",
    "\n",
    "    print('\\n\\n...and the top {} tokens likely to appear in real news were the following: \\n'.format(num_tokens))\n",
    "    display(real_indicator)"
   ]
  },
  {
   "cell_type": "code",
   "execution_count": 53,
   "id": "79332d0f",
   "metadata": {},
   "outputs": [
    {
     "data": {
      "text/html": [
       "<div>\n",
       "<style scoped>\n",
       "    .dataframe tbody tr th:only-of-type {\n",
       "        vertical-align: middle;\n",
       "    }\n",
       "\n",
       "    .dataframe tbody tr th {\n",
       "        vertical-align: top;\n",
       "    }\n",
       "\n",
       "    .dataframe thead th {\n",
       "        text-align: right;\n",
       "    }\n",
       "</style>\n",
       "<table border=\"1\" class=\"dataframe\">\n",
       "  <thead>\n",
       "    <tr style=\"text-align: right;\">\n",
       "      <th></th>\n",
       "      <th>title</th>\n",
       "      <th>text</th>\n",
       "      <th>subject</th>\n",
       "      <th>date</th>\n",
       "      <th>label</th>\n",
       "    </tr>\n",
       "  </thead>\n",
       "  <tbody>\n",
       "    <tr>\n",
       "      <th>0</th>\n",
       "      <td>As U.S. budget fight looms, Republicans flip t...</td>\n",
       "      <td>The head of a conservative Republican faction ...</td>\n",
       "      <td>politicsNews</td>\n",
       "      <td>December 31, 2017</td>\n",
       "      <td>real</td>\n",
       "    </tr>\n",
       "    <tr>\n",
       "      <th>1</th>\n",
       "      <td>U.S. military to accept transgender recruits o...</td>\n",
       "      <td>Transgender people will be allowed for the fir...</td>\n",
       "      <td>politicsNews</td>\n",
       "      <td>December 29, 2017</td>\n",
       "      <td>real</td>\n",
       "    </tr>\n",
       "    <tr>\n",
       "      <th>2</th>\n",
       "      <td>Senior U.S. Republican senator: 'Let Mr. Muell...</td>\n",
       "      <td>The special counsel investigation of links bet...</td>\n",
       "      <td>politicsNews</td>\n",
       "      <td>December 31, 2017</td>\n",
       "      <td>real</td>\n",
       "    </tr>\n",
       "    <tr>\n",
       "      <th>3</th>\n",
       "      <td>FBI Russia probe helped by Australian diplomat...</td>\n",
       "      <td>Trump campaign adviser George Papadopoulos tol...</td>\n",
       "      <td>politicsNews</td>\n",
       "      <td>December 30, 2017</td>\n",
       "      <td>real</td>\n",
       "    </tr>\n",
       "    <tr>\n",
       "      <th>4</th>\n",
       "      <td>Trump wants Postal Service to charge 'much mor...</td>\n",
       "      <td>President Donald Trump called on the U.S. Post...</td>\n",
       "      <td>politicsNews</td>\n",
       "      <td>December 29, 2017</td>\n",
       "      <td>real</td>\n",
       "    </tr>\n",
       "  </tbody>\n",
       "</table>\n",
       "</div>"
      ],
      "text/plain": [
       "                                               title  \\\n",
       "0  As U.S. budget fight looms, Republicans flip t...   \n",
       "1  U.S. military to accept transgender recruits o...   \n",
       "2  Senior U.S. Republican senator: 'Let Mr. Muell...   \n",
       "3  FBI Russia probe helped by Australian diplomat...   \n",
       "4  Trump wants Postal Service to charge 'much mor...   \n",
       "\n",
       "                                                text       subject  \\\n",
       "0  The head of a conservative Republican faction ...  politicsNews   \n",
       "1  Transgender people will be allowed for the fir...  politicsNews   \n",
       "2  The special counsel investigation of links bet...  politicsNews   \n",
       "3  Trump campaign adviser George Papadopoulos tol...  politicsNews   \n",
       "4  President Donald Trump called on the U.S. Post...  politicsNews   \n",
       "\n",
       "                 date label  \n",
       "0  December 31, 2017   real  \n",
       "1  December 29, 2017   real  \n",
       "2  December 31, 2017   real  \n",
       "3  December 30, 2017   real  \n",
       "4  December 29, 2017   real  "
      ]
     },
     "execution_count": 53,
     "metadata": {},
     "output_type": "execute_result"
    }
   ],
   "source": [
    "# Generate a copy of the \"real news\" dataset and remove headings f\n",
    "\n",
    "real_copy = tk.copy()\n",
    "for i,body in tk.text.items():\n",
    "    if '(reuters)' in body.lower():\n",
    "        idx = body.lower().index('(reuters)') + len('(reuters) - ')\n",
    "        real_copy.text.iloc[i] = body[idx:]\n",
    "        \n",
    "real_copy.head()"
   ]
  },
  {
   "cell_type": "code",
   "execution_count": 55,
   "id": "f5c862a7",
   "metadata": {},
   "outputs": [
    {
     "name": "stdout",
     "output_type": "stream",
     "text": [
      "The accuracy of prediction is 98.71%.\n",
      "\n",
      "The F1 score is 0.987.\n",
      "\n",
      "The top 10 tokens likely to appear in fake news were the following: \n",
      "\n"
     ]
    },
    {
     "data": {
      "text/html": [
       "<div>\n",
       "<style scoped>\n",
       "    .dataframe tbody tr th:only-of-type {\n",
       "        vertical-align: middle;\n",
       "    }\n",
       "\n",
       "    .dataframe tbody tr th {\n",
       "        vertical-align: top;\n",
       "    }\n",
       "\n",
       "    .dataframe thead th {\n",
       "        text-align: right;\n",
       "    }\n",
       "</style>\n",
       "<table border=\"1\" class=\"dataframe\">\n",
       "  <thead>\n",
       "    <tr style=\"text-align: right;\">\n",
       "      <th></th>\n",
       "      <th>Token</th>\n",
       "      <th>Weight</th>\n",
       "    </tr>\n",
       "  </thead>\n",
       "  <tbody>\n",
       "    <tr>\n",
       "      <th>0</th>\n",
       "      <td>featured</td>\n",
       "      <td>-10.646695</td>\n",
       "    </tr>\n",
       "    <tr>\n",
       "      <th>1</th>\n",
       "      <td>read</td>\n",
       "      <td>-10.543156</td>\n",
       "    </tr>\n",
       "    <tr>\n",
       "      <th>2</th>\n",
       "      <td>image</td>\n",
       "      <td>-9.855715</td>\n",
       "    </tr>\n",
       "    <tr>\n",
       "      <th>3</th>\n",
       "      <td>gop</td>\n",
       "      <td>-7.929049</td>\n",
       "    </tr>\n",
       "    <tr>\n",
       "      <th>4</th>\n",
       "      <td>getty</td>\n",
       "      <td>-7.064141</td>\n",
       "    </tr>\n",
       "    <tr>\n",
       "      <th>5</th>\n",
       "      <td>com</td>\n",
       "      <td>-6.388070</td>\n",
       "    </tr>\n",
       "    <tr>\n",
       "      <th>6</th>\n",
       "      <td>sen</td>\n",
       "      <td>-6.030682</td>\n",
       "    </tr>\n",
       "    <tr>\n",
       "      <th>7</th>\n",
       "      <td>just</td>\n",
       "      <td>-5.921102</td>\n",
       "    </tr>\n",
       "    <tr>\n",
       "      <th>8</th>\n",
       "      <td>pic</td>\n",
       "      <td>-5.580246</td>\n",
       "    </tr>\n",
       "    <tr>\n",
       "      <th>9</th>\n",
       "      <td>rep</td>\n",
       "      <td>-5.432980</td>\n",
       "    </tr>\n",
       "  </tbody>\n",
       "</table>\n",
       "</div>"
      ],
      "text/plain": [
       "      Token     Weight\n",
       "0  featured -10.646695\n",
       "1      read -10.543156\n",
       "2     image  -9.855715\n",
       "3       gop  -7.929049\n",
       "4     getty  -7.064141\n",
       "5       com  -6.388070\n",
       "6       sen  -6.030682\n",
       "7      just  -5.921102\n",
       "8       pic  -5.580246\n",
       "9       rep  -5.432980"
      ]
     },
     "metadata": {},
     "output_type": "display_data"
    },
    {
     "name": "stdout",
     "output_type": "stream",
     "text": [
      "\n",
      "\n",
      "...and the top 10 tokens likely to appear in real news were the following: \n",
      "\n"
     ]
    },
    {
     "data": {
      "text/html": [
       "<div>\n",
       "<style scoped>\n",
       "    .dataframe tbody tr th:only-of-type {\n",
       "        vertical-align: middle;\n",
       "    }\n",
       "\n",
       "    .dataframe tbody tr th {\n",
       "        vertical-align: top;\n",
       "    }\n",
       "\n",
       "    .dataframe thead th {\n",
       "        text-align: right;\n",
       "    }\n",
       "</style>\n",
       "<table border=\"1\" class=\"dataframe\">\n",
       "  <thead>\n",
       "    <tr style=\"text-align: right;\">\n",
       "      <th></th>\n",
       "      <th>Token</th>\n",
       "      <th>Weight</th>\n",
       "    </tr>\n",
       "  </thead>\n",
       "  <tbody>\n",
       "    <tr>\n",
       "      <th>0</th>\n",
       "      <td>tuesday</td>\n",
       "      <td>8.026438</td>\n",
       "    </tr>\n",
       "    <tr>\n",
       "      <th>1</th>\n",
       "      <td>wednesday</td>\n",
       "      <td>7.897502</td>\n",
       "    </tr>\n",
       "    <tr>\n",
       "      <th>2</th>\n",
       "      <td>thursday</td>\n",
       "      <td>7.629656</td>\n",
       "    </tr>\n",
       "    <tr>\n",
       "      <th>3</th>\n",
       "      <td>nov</td>\n",
       "      <td>6.313020</td>\n",
       "    </tr>\n",
       "    <tr>\n",
       "      <th>4</th>\n",
       "      <td>friday</td>\n",
       "      <td>6.153869</td>\n",
       "    </tr>\n",
       "    <tr>\n",
       "      <th>5</th>\n",
       "      <td>reuters</td>\n",
       "      <td>5.972016</td>\n",
       "    </tr>\n",
       "    <tr>\n",
       "      <th>6</th>\n",
       "      <td>monday</td>\n",
       "      <td>5.756350</td>\n",
       "    </tr>\n",
       "    <tr>\n",
       "      <th>7</th>\n",
       "      <td>republican</td>\n",
       "      <td>5.176784</td>\n",
       "    </tr>\n",
       "    <tr>\n",
       "      <th>8</th>\n",
       "      <td>spokesman</td>\n",
       "      <td>4.173715</td>\n",
       "    </tr>\n",
       "    <tr>\n",
       "      <th>9</th>\n",
       "      <td>rival</td>\n",
       "      <td>3.929434</td>\n",
       "    </tr>\n",
       "  </tbody>\n",
       "</table>\n",
       "</div>"
      ],
      "text/plain": [
       "        Token    Weight\n",
       "0     tuesday  8.026438\n",
       "1   wednesday  7.897502\n",
       "2    thursday  7.629656\n",
       "3         nov  6.313020\n",
       "4      friday  6.153869\n",
       "5     reuters  5.972016\n",
       "6      monday  5.756350\n",
       "7  republican  5.176784\n",
       "8   spokesman  4.173715\n",
       "9       rival  3.929434"
      ]
     },
     "metadata": {},
     "output_type": "display_data"
    },
    {
     "data": {
      "image/png": "[encoded data removed]",
      "text/plain": [
       "<Figure size 432x288 with 2 Axes>"
      ]
     },
     "metadata": {
      "needs_background": "light"
     },
     "output_type": "display_data"
    }
   ],
   "source": [
    "# Create new data, and run the algorithm\n",
    "data2 = pd.concat([fk, real_copy], axis=0)\n",
    "data2 = data2.sample(frac=1).reset_index(drop=True)\n",
    "data2.drop('subject', axis=1)\n",
    "\n",
    "FakeNewsDetection(data2['text'], data2['label'])"
   ]
  },
  {
   "cell_type": "code",
   "execution_count": 56,
   "id": "aae11550",
   "metadata": {},
   "outputs": [],
   "source": [
    "#Overall, the algorithm does slightly less well but still holds up very nicely!"
   ]
  },
  {
   "cell_type": "code",
   "execution_count": 57,
   "id": "d98dfe8d",
   "metadata": {},
   "outputs": [],
   "source": [
    "#6. Conclusion"
   ]
  },
  {
   "cell_type": "code",
   "execution_count": 58,
   "id": "ca07ca8d",
   "metadata": {},
   "outputs": [],
   "source": [
    "#In this notebook, I used the TfidfVectorizer and PassiveAggressiveClassifier algorithms to detect \"fake news\" in the dataset. If you found these interesting, I highly encourage you to do further research yourself!"
   ]
  },
  {
   "cell_type": "code",
   "execution_count": null,
   "id": "cac4a275",
   "metadata": {},
   "outputs": [],
   "source": []
  }
 ],
 "metadata": {
  "kernelspec": {
   "display_name": "Python 3 (ipykernel)",
   "language": "python",
   "name": "python3"
  },
  "language_info": {
   "codemirror_mode": {
    "name": "ipython",
    "version": 3
   },
   "file_extension": ".py",
   "mimetype": "text/x-python",
   "name": "python",
   "nbconvert_exporter": "python",
   "pygments_lexer": "ipython3",
   "version": "3.9.7"
  }
 },
 "nbformat": 4,
 "nbformat_minor": 5
}
